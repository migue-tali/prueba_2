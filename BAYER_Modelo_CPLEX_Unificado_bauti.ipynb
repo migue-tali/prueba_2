{
 "cells": [
  {
   "cell_type": "code",
   "execution_count": 24,
   "metadata": {},
   "outputs": [],
   "source": [
    "import pandas as pd\n",
    "import numpy as np\n",
    "import datetime\n",
    "import argparse\n",
    "import shutil\n",
    "import sys\n",
    "import os\n",
    "\n",
    "from docplex.mp.model import Model"
   ]
  },
  {
   "cell_type": "code",
   "execution_count": 25,
   "metadata": {
    "scrolled": true
   },
   "outputs": [],
   "source": [
    "#CAMBIAR CUANDO SE QUIERA CORRER DESDE ACA O CUANDO SE QUIERA DEESCARGAR UNA NUEVA VERSION PARA CORRER AUTOMATICAMENTE\n",
    "\n",
    "#ap = argparse.ArgumentParser()\n",
    "#ap.add_argument(\"-m\", \"--manual\", required=False, help=\"Indicar si es corrida manual corta (1) o larga (2)\", default= 0)\n",
    "#args = vars(ap.parse_args())\n",
    "\n",
    "args = {'manual': '1'}"
   ]
  },
  {
   "cell_type": "markdown",
   "metadata": {},
   "source": [
    "## Paths"
   ]
  },
  {
   "cell_type": "code",
   "execution_count": 26,
   "metadata": {},
   "outputs": [],
   "source": [
    "# Definimos los paths a los cuales vamos a ir a buscar los excels necesarios\n",
    "# y donde vamos a depositar el output.\n",
    "\n",
    "path_excels = '../Archivos_Variables/'\n",
    "\n",
    "\n",
    "path_fijos = '../fijos/'\n",
    "\n",
    "\n",
    "carpeta_a_escuchar = 'C:/Users/TALIGENT/Documents/De Angelis Juan Bautista/Celula AA/1- Optimizador de despachos/malvina.bernal'\n",
    "\n",
    "archivo_input = '../inputs.csv'\n",
    "\n",
    "archivos = {'yva': None, 'yq10': None, 'embolse': None,'recepciones': None, 'yvatr': None}"
   ]
  },
  {
   "cell_type": "markdown",
   "metadata": {},
   "source": [
    "## Funciones Útiles"
   ]
  },
  {
   "cell_type": "code",
   "execution_count": 27,
   "metadata": {},
   "outputs": [],
   "source": [
    "# Esta función suma dias habiles a una fecha que le pase\n",
    "\n",
    "def proximo_dia_habil(fecha, dias_a_sumar): \n",
    "    proximo_dia_habil = fecha\n",
    "    while dias_a_sumar != 0:\n",
    "        proximo_dia_habil += datetime.timedelta(days=1)\n",
    "        if proximo_dia_habil.weekday() >= 5:\n",
    "            continue\n",
    "        dias_a_sumar -= 1       \n",
    "    return proximo_dia_habil\n",
    "\n",
    "\n",
    "# Esta función arma el nombre del output dependiendo del día actual y el numero de corrida\n",
    "\n",
    "def armar_output():\n",
    "        i = 0\n",
    "        path_intermedio = '../Output/' + str(datetime.date.today())\n",
    "        try:\n",
    "            os.mkdir(path_intermedio)\n",
    "                \n",
    "        except FileExistsError:\n",
    "                pass\n",
    "            \n",
    "        while True:\n",
    "            path_out = path_intermedio + '/run_' + str(i)\n",
    "            try:\n",
    "                os.mkdir(path_out)\n",
    "                break\n",
    "            except FileExistsError:\n",
    "                i += 1\n",
    "                continue\n",
    "        return path_out\n",
    "    \n",
    "    \n",
    "# Esta función toma los archivos que se van a usar para el modelo y los copia en la carpeta output\n",
    "\n",
    "\n",
    "def copiar_archivos(path_out):\n",
    "        shutil.copy(path_excels + '/' + archivos['yva'], path_out + '/' + archivos['yva'])\n",
    "        shutil.copy(path_excels + '/' + archivos['yq10'], path_out + '/' + archivos['yq10'])\n",
    "        shutil.copy(path_fijos + '/' + archivos['embolse'], path_out + '/' + archivos['embolse'])\n",
    "        shutil.copy(path_excels + '/' + archivos['yvatr'], path_out + '/' + archivos['yvatr'])\n",
    "        inputs.to_csv(path_out + '/inputs.csv', sep=';', index= False)\n",
    "        \n",
    "\n",
    "# Esta función mira los archivos fijos y los identifica para leerlos posteriormente\n",
    "\n",
    "\n",
    "def identificar_archivos_fijos(path, archivos):\n",
    "    for file in os.listdir(path):\n",
    "        try:\n",
    "            split1 = file.split('_')[1]\n",
    "            if split1 == 'EMBOLSE':\n",
    "                    archivos['embolse'] = file\n",
    "            elif split1 == 'RECEPCIONCENTROS':\n",
    "                archivos['recepciones'] = file\n",
    "            else: \n",
    "                pass\n",
    "        except: pass\n",
    "        \n",
    "        \n",
    "# Esta función mira los archivos variables y los identifica para posterior lectura\n",
    "\n",
    "# CAMBIO ACÁ\n",
    "def identificar_archivos(path, archivos):\n",
    "    for file in os.listdir(path):\n",
    "        split1 = file.split('_')[1]\n",
    "        if split1 == 'YVADKLT':\n",
    "            archivos['yva'] = file\n",
    "        elif split1 == 'YQ10':\n",
    "            archivos['yq10'] = file\n",
    "        elif split1 == 'YVATRDKLT':\n",
    "            archivos['yvatr'] = file\n",
    "        else: \n",
    "            pass\n",
    "        \n",
    "\n",
    "# Funcion que se usa en el proceso de verificar que tenemos todos los archivos necesarios\n",
    "\n",
    "\n",
    "def tengo_archivos(archivos):\n",
    "    return all(archivos.values())\n"
   ]
  },
  {
   "cell_type": "markdown",
   "metadata": {},
   "source": [
    "## Inputs"
   ]
  },
  {
   "cell_type": "code",
   "execution_count": 28,
   "metadata": {
    "scrolled": true
   },
   "outputs": [],
   "source": [
    "# BUSCO LOS ARCHIVOS INPUT\n",
    "\n",
    "identificar_archivos(path_excels, archivos)\n",
    "\n",
    "identificar_archivos_fijos(path_fijos, archivos)\n",
    "\n",
    "if not(tengo_archivos(archivos)):\n",
    "    print('Falta YVA o YQ10 o Embolse')\n",
    "    sys.exit()\n",
    "\n",
    "path_out = armar_output()"
   ]
  },
  {
   "cell_type": "code",
   "execution_count": 29,
   "metadata": {},
   "outputs": [],
   "source": [
    "dateparse = lambda x: pd.datetime.strptime(str(x), '%d.%m.%Y')"
   ]
  },
  {
   "cell_type": "code",
   "execution_count": 30,
   "metadata": {
    "code_folding": []
   },
   "outputs": [],
   "source": [
    "# Lectura de la YVA\n",
    "# CAMBIO ACÁ\n",
    "data = pd.read_excel(path_excels + '/' + archivos['yva'], sheet_name= 'Sheet1')#, parse_dates=['Fecha_doc', 'Fe_SM_real','FePrefEnt_Cab', 'Fe_entrega','FechaFact'], date_parser=dateparse)\n",
    "\n",
    "fecha_ultimo_pedido = data['Fe_entrega'].max()"
   ]
  },
  {
   "cell_type": "code",
   "execution_count": 31,
   "metadata": {},
   "outputs": [],
   "source": [
    "# Si la corrida es manual se toman los inputs originales\n",
    "\n",
    "if int(args['manual']) == 1:\n",
    "    \n",
    "    inputs = pd.read_csv(archivo_input, sep=';', encoding='mbcs')\n",
    "\n",
    "\n",
    "# Corrida automatica a largo plazo\n",
    "\n",
    "elif int(args['manual']) == 2:\n",
    "    \n",
    "    inputs = pd.read_csv(archivo_input, sep=';', encoding='mbcs')\n",
    "    \n",
    "    inputs['VALOR'].iloc[0] = datetime.date.today()\n",
    "    \n",
    "    inputs['VALOR'].iloc[1] = fecha_ultimo_pedido\n",
    "\n",
    "\n",
    "# Si es automatica se inputa el dia actual y se toman 90 días hábiles en adelante\n",
    "\n",
    "else:\n",
    "    \n",
    "    inputs = pd.read_csv(archivo_input, sep=';', encoding='mbcs')\n",
    "    \n",
    "    inputs['VALOR'].iloc[0] = datetime.date.today()\n",
    "    \n",
    "    inputs['VALOR'].iloc[1] = proximo_dia_habil(inputs['VALOR'].iloc[0], 90)"
   ]
  },
  {
   "cell_type": "code",
   "execution_count": 32,
   "metadata": {},
   "outputs": [
    {
     "data": {
      "text/html": [
       "<div>\n",
       "<style scoped>\n",
       "    .dataframe tbody tr th:only-of-type {\n",
       "        vertical-align: middle;\n",
       "    }\n",
       "\n",
       "    .dataframe tbody tr th {\n",
       "        vertical-align: top;\n",
       "    }\n",
       "\n",
       "    .dataframe thead th {\n",
       "        text-align: right;\n",
       "    }\n",
       "</style>\n",
       "<table border=\"1\" class=\"dataframe\">\n",
       "  <thead>\n",
       "    <tr style=\"text-align: right;\">\n",
       "      <th></th>\n",
       "      <th>VALOR</th>\n",
       "      <th>DESCRIPCION</th>\n",
       "    </tr>\n",
       "  </thead>\n",
       "  <tbody>\n",
       "    <tr>\n",
       "      <th>0</th>\n",
       "      <td>10/2/2023</td>\n",
       "      <td>Día a partir del cual se quiere calcular (dia ...</td>\n",
       "    </tr>\n",
       "    <tr>\n",
       "      <th>1</th>\n",
       "      <td>7/7/2023</td>\n",
       "      <td>Día hasta el cual se quiere calcular (ultimo d...</td>\n",
       "    </tr>\n",
       "    <tr>\n",
       "      <th>2</th>\n",
       "      <td>NO</td>\n",
       "      <td>Se desea usar la fecha temprana de siembra  ('...</td>\n",
       "    </tr>\n",
       "    <tr>\n",
       "      <th>3</th>\n",
       "      <td>NO</td>\n",
       "      <td>Se desea usar la fecha tardía de siembra  ('SI...</td>\n",
       "    </tr>\n",
       "    <tr>\n",
       "      <th>4</th>\n",
       "      <td>12500</td>\n",
       "      <td>Capacidad logistica diaria (SSU)</td>\n",
       "    </tr>\n",
       "    <tr>\n",
       "      <th>5</th>\n",
       "      <td>3000</td>\n",
       "      <td>Capacidad REAP por dia (SSU)</td>\n",
       "    </tr>\n",
       "    <tr>\n",
       "      <th>6</th>\n",
       "      <td>Q</td>\n",
       "      <td>Ultima campaña despachable</td>\n",
       "    </tr>\n",
       "    <tr>\n",
       "      <th>7</th>\n",
       "      <td>SI</td>\n",
       "      <td>Calcular fechas erroneas  ('SI' o 'NO')</td>\n",
       "    </tr>\n",
       "    <tr>\n",
       "      <th>8</th>\n",
       "      <td>NO</td>\n",
       "      <td>Correr Por OTD ('SI' o 'NO')</td>\n",
       "    </tr>\n",
       "  </tbody>\n",
       "</table>\n",
       "</div>"
      ],
      "text/plain": [
       "       VALOR                                        DESCRIPCION\n",
       "0  10/2/2023  Día a partir del cual se quiere calcular (dia ...\n",
       "1   7/7/2023  Día hasta el cual se quiere calcular (ultimo d...\n",
       "2         NO  Se desea usar la fecha temprana de siembra  ('...\n",
       "3         NO  Se desea usar la fecha tardía de siembra  ('SI...\n",
       "4      12500                   Capacidad logistica diaria (SSU)\n",
       "5       3000                       Capacidad REAP por dia (SSU)\n",
       "6          Q                         Ultima campaña despachable\n",
       "7         SI            Calcular fechas erroneas  ('SI' o 'NO')\n",
       "8         NO                       Correr Por OTD ('SI' o 'NO')"
      ]
     },
     "execution_count": 32,
     "metadata": {},
     "output_type": "execute_result"
    }
   ],
   "source": [
    "inputs"
   ]
  },
  {
   "cell_type": "code",
   "execution_count": 33,
   "metadata": {},
   "outputs": [],
   "source": [
    "# Copio los archivos en la carpeta de outputs\n",
    "copiar_archivos(path_out) "
   ]
  },
  {
   "cell_type": "code",
   "execution_count": 34,
   "metadata": {},
   "outputs": [],
   "source": [
    "# INPUTS QUE SE VAN A PODER CAMBIAR\n",
    "\n",
    "fecha_de_hoy = pd.to_datetime(inputs['VALOR'].iloc[0], format='%d/%m/%Y') #Fecha del dia en que se hace la optimizacion\n",
    "\n",
    "ultimo_dia = pd.to_datetime(inputs['VALOR'].iloc[1], format='%d/%m/%Y')\n",
    "\n",
    "dias_habiles_disponibles = np.busday_count(fecha_de_hoy.date(), ultimo_dia.date()) # Dias habiles disponibles para despachar o hacer REAP\n",
    "\n",
    "USAR_FECHA_SIEMBRA_TEMPRANA = True if inputs['VALOR'].iloc[2] == 'SI' else False\n",
    "\n",
    "USAR_FECHA_SIEMBRA_TARDIA = True if inputs['VALOR'].iloc[3] == 'SI' else False\n",
    "\n",
    "capacidad_despacho_por_dia = int(inputs['VALOR'].iloc[4]) #Cuantos SSU se pueden despachar por dia (segun camiones)\n",
    "\n",
    "capacidad_reap_por_dia = int(inputs['VALOR'].iloc[5])\n",
    "\n",
    "ultima_campaña_despachable = inputs['VALOR'].iloc[6]\n",
    "\n",
    "calcular_fechas_erroneas = True if inputs['VALOR'].iloc[7] == 'SI' else False\n",
    "\n",
    "nombre_output = path_out + '/OPTIMIZADODISTRIBUCION_' + fecha_de_hoy.strftime(\"%Y%m%d\") + '_' + ultimo_dia.strftime(\"%Y%m%d\") + '_ROJAS' + '.xlsx'\n",
    "\n",
    "correr_otd = True if inputs['VALOR'].iloc[8] == 'SI' else False"
   ]
  },
  {
   "cell_type": "code",
   "execution_count": 35,
   "metadata": {
    "scrolled": false
   },
   "outputs": [],
   "source": [
    "# Lectura de todos los archivos necesarios\n",
    "\n",
    "yq10 = pd.read_excel(path_excels + archivos['yq10']) #,parse_dates=['Fecha DE'], date_parser=dateparse)\n",
    "\n",
    "embolse = pd.read_excel(path_fijos + archivos['embolse'], skiprows=5, sheet_name='Hoja 1')\n",
    "\n",
    "prop = pd.read_csv(path_fijos + 'proporcion_de_material_por_hibrido')\n",
    "\n",
    "yvatr = pd.read_excel(path_excels + archivos['yvatr'], sheet_name='Sheet1') #sheet_name='YVA TR GRAL')\n",
    "\n",
    "prioridades = pd.read_excel(path_fijos + 'Prioridades Distribución FEFO.xlsx')\n",
    "\n",
    "zonas = pd.read_excel(path_fijos + 'Detalle Distrib - Final.xlsx', skiprows=3)\n",
    "\n",
    "recep = pd.read_excel(path_fijos + '/'  + archivos['recepciones'])\n",
    "\n",
    "# CAMBIO ACÁ\n",
    "\n",
    "# maestro = pd.read_excel('C:/FTPS/malvina.bernal/fijos/Grupo de clientes.xlsx', sheet_name= 'Base clientes')"
   ]
  }
 ],
 "metadata": {
  "kernelspec": {
   "display_name": "optimizacion_despachos",
   "language": "python",
   "name": "python3"
  },
  "language_info": {
   "codemirror_mode": {
    "name": "ipython",
    "version": 3
   },
   "file_extension": ".py",
   "mimetype": "text/x-python",
   "name": "python",
   "nbconvert_exporter": "python",
   "pygments_lexer": "ipython3",
   "version": "3.9.16"
  },
  "vscode": {
   "interpreter": {
    "hash": "7461f08aed499f8b830ad9d6beaf0527a70c7b41a7fb6b90bab2bd8218cc8dbe"
   }
  }
 },
 "nbformat": 4,
 "nbformat_minor": 4
}
