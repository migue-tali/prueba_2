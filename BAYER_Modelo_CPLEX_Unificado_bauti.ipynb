{
 "cells": [
  {
   "cell_type": "code",
   "execution_count": 24,
   "metadata": {},
   "outputs": [],
   "source": [
    "import pandas as pd\n",
    "import numpy as np\n",
    "import datetime\n",
    "import argparse\n",
    "import shutil\n",
    "import sys\n",
    "import os\n",
    "\n",
    "from docplex.mp.model import Model"
   ]
  },
  {
   "cell_type": "code",
   "execution_count": 25,
   "metadata": {
    "scrolled": true
   },
   "outputs": [],
   "source": [
    "#CAMBIAR CUANDO SE QUIERA CORRER DESDE ACA O CUANDO SE QUIERA DEESCARGAR UNA NUEVA VERSION PARA CORRER AUTOMATICAMENTE\n",
    "\n",
    "#ap = argparse.ArgumentParser()\n",
    "#ap.add_argument(\"-m\", \"--manual\", required=False, help=\"Indicar si es corrida manual corta (1) o larga (2)\", default= 0)\n",
    "#args = vars(ap.parse_args())\n",
    "\n",
    "args = {'manual': '1'}"
   ]
  },
  {
   "cell_type": "markdown",
   "metadata": {},
   "source": [
    "## Paths"
   ]
  }
 ],
 "metadata": {
  "kernelspec": {
   "display_name": "optimizacion_despachos",
   "language": "python",
   "name": "python3"
  },
  "language_info": {
   "codemirror_mode": {
    "name": "ipython",
    "version": 3
   },
   "file_extension": ".py",
   "mimetype": "text/x-python",
   "name": "python",
   "nbconvert_exporter": "python",
   "pygments_lexer": "ipython3",
   "version": "3.9.16"
  },
  "vscode": {
   "interpreter": {
    "hash": "7461f08aed499f8b830ad9d6beaf0527a70c7b41a7fb6b90bab2bd8218cc8dbe"
   }
  }
 },
 "nbformat": 4,
 "nbformat_minor": 4
}
